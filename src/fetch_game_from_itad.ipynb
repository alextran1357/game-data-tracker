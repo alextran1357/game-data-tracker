{
 "cells": [
  {
   "cell_type": "code",
   "execution_count": 1,
   "id": "365eb573-b46b-4ceb-adfa-dfc0627b9e31",
   "metadata": {},
   "outputs": [],
   "source": [
    "import os, time, requests, pandas as pd\n",
    "from requests.adapters import HTTPAdapter\n",
    "from urllib3.util.retry import Retry\n",
    "import constants"
   ]
  },
  {
   "cell_type": "code",
   "execution_count": 2,
   "id": "12a599dd-ec84-448a-9321-3104029d16a0",
   "metadata": {},
   "outputs": [],
   "source": [
    "LOOK_UP_URL = \"https://api.isthereanydeal.com/lookup/id/title/v1\" \n",
    "IN_CSV = '../data/new_game_list.csv'\n",
    "API_KEY = constants.API_KEY\n",
    "OUT_PARQUET = \"../data/game_list.parquet\"\n",
    "\n",
    "games = pd.read_csv(IN_CSV)\n",
    "titles = (games['title'].astype(str).str.strip().replace(\"\", pd.NA).dropna().drop_duplicates().tolist())\n",
    "\n",
    "def chunked(seq, n):\n",
    "    for i in range(0, len(seq), n):\n",
    "        yield seq[i: i+n]\n",
    "\n",
    "def retry_session():\n",
    "    s = requests.Session()\n",
    "    r = Retry(total=5, backoff_factor=0.6,\n",
    "             status_forcelist=[429, 500, 502, 503, 504],\n",
    "             allowed_methods=[\"GET\", \"POST\"])\n",
    "    s.mount(\"https://\", HTTPAdapter(max_retries=r))\n",
    "    return s\n",
    "\n",
    "session = retry_session()\n",
    "params = params = { \"key\": constants.API_KEY }\n",
    "mapping = {}\n",
    "unresolved = []\n",
    "\n",
    "BATCH = 50\n",
    "for batch in chunked(titles, BATCH):\n",
    "    resp = requests.post(LOOK_UP_URL, params=params, json=batch, timeout=30)\n",
    "    resp.raise_for_status()\n",
    "    data = resp.json()\n",
    "    mapping.update(data)\n",
    "\n",
    "    missing = set(batch) - set(data.keys())\n",
    "    unresolved.extend(missing)\n",
    "    time.sleep(0.2)\n",
    "    \n",
    "df = (pd.Series(mapping, name='itad_uuid').rename_axis('title').reset_index())\n",
    "\n",
    "if os.path.exists(OUT_PARQUET):\n",
    "    old = pd.read_parquet(OUT_PARQUET)\n",
    "    combined = (pd.concat([old, df], ignore_index=True)\n",
    "                  .drop_duplicates(subset=[\"title\"], keep=\"last\"))\n",
    "    combined.to_parquet(OUT_PARQUET, index=False)\n",
    "else:\n",
    "    df.to_parquet(OUT_PARQUET, index=False)\n",
    "if unresolved:\n",
    "    pd.DataFrame({\"title\": sorted(unresolved)}).to_csv(\"data/unresolved_titles.csv\", index=False)\n"
   ]
  },
  {
   "cell_type": "code",
   "execution_count": 4,
   "id": "b3f61ba5-c6df-4551-8d0a-cfbccd90a176",
   "metadata": {},
   "outputs": [],
   "source": [
    "game_list = pd.read_parquet('../data/game_list.parquet')"
   ]
  }
 ],
 "metadata": {
  "kernelspec": {
   "display_name": "Python 3 (ipykernel)",
   "language": "python",
   "name": "python3"
  },
  "language_info": {
   "codemirror_mode": {
    "name": "ipython",
    "version": 3
   },
   "file_extension": ".py",
   "mimetype": "text/x-python",
   "name": "python",
   "nbconvert_exporter": "python",
   "pygments_lexer": "ipython3",
   "version": "3.10.18"
  }
 },
 "nbformat": 4,
 "nbformat_minor": 5
}
