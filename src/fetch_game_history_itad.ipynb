{
 "cells": [
  {
   "cell_type": "code",
   "execution_count": 1,
   "id": "60273de8-75dd-4c7c-a8db-bebbaf56d8a5",
   "metadata": {},
   "outputs": [],
   "source": [
    "import os, time, json, requests, pandas as pd\n",
    "from requests.adapters import HTTPAdapter\n",
    "from urllib3.util.retry import Retry\n",
    "import constants as constants"
   ]
  },
  {
   "cell_type": "code",
   "execution_count": 2,
   "id": "bd9f7793-9021-4a8e-8075-18999ebda36c",
   "metadata": {},
   "outputs": [],
   "source": [
    "itad_uuid = pd.read_csv(\"../data/merged_cleaned.csv\")[\"itad_uuid\"]"
   ]
  },
  {
   "cell_type": "code",
   "execution_count": 3,
   "id": "128eef53-e46d-4051-a449-27daaa57d6bf",
   "metadata": {},
   "outputs": [],
   "source": [
    "# Getting game history\n",
    "\n",
    "API_KEY = constants.API_KEY\n",
    "RELEASE_DATE_URL = \"https://api.isthereanydeal.com/games/history/v2\"\n",
    "CACHE_DIR = \"../data_raw/history\"\n",
    "OUT_CSV = \"../data/game_history.parquet\"\n",
    "os.makedirs(CACHE_DIR, exist_ok=True)\n",
    "os.makedirs(os.path.dirname(OUT_CSV), exist_ok=True)\n",
    "\n",
    "def retry_session():\n",
    "    s = requests.Session()\n",
    "    r = Retry(total=5, backoff_factor=0.6,\n",
    "             status_forcelist=[429, 500, 502, 503, 504],\n",
    "             allowed_methods=[\"GET\", \"POST\"])\n",
    "    s.mount(\"https://\", HTTPAdapter(max_retries=r))\n",
    "    return s\n",
    "\n",
    "def fetch_game_history(uuid, shops=61, since=\"2000-01-01T00:00:00Z\", session=None):\n",
    "    session = session or retry_session()\n",
    "    cache_path = os.path.join(CACHE_DIR, f\"{uuid}.json\")\n",
    "    if os.path.exists(cache_path):\n",
    "        with open(cache_path, \"r\", encoding=\"utf-8\") as f:\n",
    "            return json.load(f)\n",
    "\n",
    "    params = { \n",
    "        \"key\": API_KEY,      \n",
    "        \"id\": uuid,\n",
    "        \"shops\": shops,\n",
    "        \"since\": since,\n",
    "     }\n",
    "    resp = session.get(RELEASE_DATE_URL, params=params, timeout=30)\n",
    "    resp.raise_for_status()\n",
    "    data = resp.json()\n",
    "\n",
    "    with open(cache_path, \"w\", encoding=\"utf-8\") as f:\n",
    "        json.dump(data, f)\n",
    "    return data\n",
    "\n",
    "def append_rows(rows):\n",
    "    df = pd.DataFrame(rows)\n",
    "    if df.empty: return\n",
    "    exists = os.path.exists(OUT_CSV)\n",
    "    df.to_parquet(OUT_CSV, mode=\"a\", index=False, header=not exists)\n",
    "\n",
    "def process_all(uuids, rpm=60):\n",
    "    session = retry_session()\n",
    "    rows_buffer = []\n",
    "    window = 60.0 / max(rpm, 1)\n",
    "    for i, uid in enumerate(uuids, 1):\n",
    "        try:\n",
    "            data = fetch_game_history(uid, session=session)\n",
    "            rows = []\n",
    "            for entry in data:\n",
    "                rows.append({\n",
    "                    \"itad_uuid\": uid,\n",
    "                    \"timestamp\": entry.get(\"timestamp\"),\n",
    "                    \"shop_id\": entry.get(\"shop\", {}).get(\"id\"),\n",
    "                    \"shop_name\": entry.get(\"shop\", {}).get(\"name\"),\n",
    "                    \"price\": entry.get(\"deal\", {}).get(\"price\", {}).get(\"amount\"),\n",
    "                    \"regular\": entry.get(\"deal\", {}).get(\"regular\", {}).get(\"amount\"),\n",
    "                    \"currency\": entry.get(\"deal\", {}).get(\"price\", {}).get(\"currency\"),\n",
    "                    \"discount_pct\": entry.get(\"deal\", {}).get(\"cut\"),\n",
    "                })\n",
    "            rows_buffer.extend(rows)\n",
    "            \n",
    "        except requests.HTTPError as e:\n",
    "            print(f\"[{i}/{len(uuids)}] {uid} -> HTTP {e.response.status_code}\")\n",
    "        except Exception as e:\n",
    "            print(f\"[{i}/{len(uuids)}] {uid} -> ERROR {e}\")\n",
    "\n",
    "        if i % 50 == 0 and rows_buffer:\n",
    "            append_rows(rows_buffer)\n",
    "            rows_buffer.clear()\n",
    "        time.sleep(window)\n",
    "        \n",
    "    if rows_buffer:\n",
    "        append_rows(rows_buffer)"
   ]
  },
  {
   "cell_type": "code",
   "execution_count": 4,
   "id": "d411b8d0-7bf1-48e1-8906-90278c816785",
   "metadata": {},
   "outputs": [
    {
     "name": "stdout",
     "output_type": "stream",
     "text": [
      "4819\n"
     ]
    }
   ],
   "source": [
    "uuids = itad_uuid.dropna().unique().tolist()\n",
    "print(len(uuids))"
   ]
  },
  {
   "cell_type": "code",
   "execution_count": 5,
   "id": "314d786f-1f6d-4bbc-a212-857617b13208",
   "metadata": {},
   "outputs": [],
   "source": [
    "process_all(uuids, rpm=60)"
   ]
  },
  {
   "cell_type": "code",
   "execution_count": null,
   "id": "2f99f362-20b9-40cd-8278-5e6df426c35d",
   "metadata": {},
   "outputs": [],
   "source": []
  }
 ],
 "metadata": {
  "kernelspec": {
   "display_name": "Python 3 (ipykernel)",
   "language": "python",
   "name": "python3"
  },
  "language_info": {
   "codemirror_mode": {
    "name": "ipython",
    "version": 3
   },
   "file_extension": ".py",
   "mimetype": "text/x-python",
   "name": "python",
   "nbconvert_exporter": "python",
   "pygments_lexer": "ipython3",
   "version": "3.10.18"
  }
 },
 "nbformat": 4,
 "nbformat_minor": 5
}
