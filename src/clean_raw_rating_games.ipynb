{
 "cells": [
  {
   "cell_type": "code",
   "execution_count": 1,
   "id": "81a9b7ba-1c67-4488-a18c-6f377f041938",
   "metadata": {},
   "outputs": [],
   "source": [
    "import re\n",
    "import pandas as pd"
   ]
  },
  {
   "cell_type": "code",
   "execution_count": 2,
   "id": "0dd142fd-5188-4e51-a937-b214930d077a",
   "metadata": {},
   "outputs": [],
   "source": [
    "def clean_raw_text(raw_text):\n",
    "  games = []\n",
    "  for line in raw_text.splitlines():\n",
    "    line = line.strip()\n",
    "    if not line:\n",
    "      continue\n",
    "\n",
    "    if re.match(r'^\\d{4}$', line):\n",
    "      continue\n",
    "    \n",
    "    if re.match(r'^\\d+(\\.\\d+)?%$', line):\n",
    "      continue\n",
    "    \n",
    "    if re.match(r'^\\$?\\d+(\\.\\d+)?$', line) or line == \"-\":\n",
    "      continue\n",
    "    \n",
    "    games.append(line)\n",
    "  return games"
   ]
  },
  {
   "cell_type": "code",
   "execution_count": 17,
   "id": "3897913a-d1c3-4018-a9ac-5d1a80cea07b",
   "metadata": {},
   "outputs": [],
   "source": [
    "all_games = []\n",
    "with open('../data_raw/grab_by_filter/11_29.txt', 'r', encoding=\"utf-8\") as file:\n",
    "  raw_text = file.read()\n",
    "all_games.extend(clean_raw_text(raw_text))\n",
    "with open('../data_raw/grab_by_filter/30_49.txt', 'r', encoding=\"utf-8\") as file:\n",
    "  raw_text = file.read()\n",
    "all_games.extend(clean_raw_text(raw_text))\n",
    "with open('../data_raw/grab_by_filter/50_69.txt', 'r', encoding=\"utf-8\") as file:\n",
    "  raw_text = file.read()\n",
    "all_games.extend(clean_raw_text(raw_text))\n",
    "with open('../data_raw/grab_by_filter/70_84.txt', 'r', encoding=\"utf-8\") as file:\n",
    "  raw_text = file.read()\n",
    "all_games.extend(clean_raw_text(raw_text))\n",
    "with open('../data_raw/grab_by_filter/85_100.txt', 'r', encoding=\"utf-8\") as file:\n",
    "  raw_text = file.read()\n",
    "all_games.extend(clean_raw_text(raw_text))\n",
    "\n",
    "game_list = pd.DataFrame(all_games)"
   ]
  },
  {
   "cell_type": "code",
   "execution_count": 26,
   "id": "0b06a558-eb4e-4836-9ccb-43b30a93ff34",
   "metadata": {},
   "outputs": [],
   "source": [
    "game_list = game_list.rename(columns={0:\"title\"})"
   ]
  },
  {
   "cell_type": "code",
   "execution_count": 27,
   "id": "a69a5440-07ee-4bc5-baa1-81efcdbe6bce",
   "metadata": {},
   "outputs": [
    {
     "name": "stdout",
     "output_type": "stream",
     "text": [
      "<class 'pandas.core.frame.DataFrame'>\n",
      "RangeIndex: 9115 entries, 0 to 9114\n",
      "Data columns (total 1 columns):\n",
      " #   Column  Non-Null Count  Dtype \n",
      "---  ------  --------------  ----- \n",
      " 0   title   9115 non-null   object\n",
      "dtypes: object(1)\n",
      "memory usage: 71.3+ KB\n"
     ]
    }
   ],
   "source": [
    "game_list.info()"
   ]
  },
  {
   "cell_type": "code",
   "execution_count": 28,
   "id": "0ad8bf69-1e30-450e-9b70-07f546fc8205",
   "metadata": {},
   "outputs": [
    {
     "data": {
      "text/html": [
       "<div>\n",
       "<style scoped>\n",
       "    .dataframe tbody tr th:only-of-type {\n",
       "        vertical-align: middle;\n",
       "    }\n",
       "\n",
       "    .dataframe tbody tr th {\n",
       "        vertical-align: top;\n",
       "    }\n",
       "\n",
       "    .dataframe thead th {\n",
       "        text-align: right;\n",
       "    }\n",
       "</style>\n",
       "<table border=\"1\" class=\"dataframe\">\n",
       "  <thead>\n",
       "    <tr style=\"text-align: right;\">\n",
       "      <th></th>\n",
       "      <th>title</th>\n",
       "    </tr>\n",
       "  </thead>\n",
       "  <tbody>\n",
       "    <tr>\n",
       "      <th>3</th>\n",
       "      <td>Kerbal Space Program 2</td>\n",
       "    </tr>\n",
       "    <tr>\n",
       "      <th>4</th>\n",
       "      <td>Shadowverse: Worlds Beyond</td>\n",
       "    </tr>\n",
       "    <tr>\n",
       "      <th>5</th>\n",
       "      <td>New York Bus Simulator</td>\n",
       "    </tr>\n",
       "    <tr>\n",
       "      <th>6</th>\n",
       "      <td>SHOFER Race Driver</td>\n",
       "    </tr>\n",
       "    <tr>\n",
       "      <th>7</th>\n",
       "      <td>Growtopia</td>\n",
       "    </tr>\n",
       "    <tr>\n",
       "      <th>...</th>\n",
       "      <td>...</td>\n",
       "    </tr>\n",
       "    <tr>\n",
       "      <th>9110</th>\n",
       "      <td>Pinball FX3</td>\n",
       "    </tr>\n",
       "    <tr>\n",
       "      <th>9111</th>\n",
       "      <td>Super Mega Baseball: Extra Innings</td>\n",
       "    </tr>\n",
       "    <tr>\n",
       "      <th>9112</th>\n",
       "      <td>英雄群侠传</td>\n",
       "    </tr>\n",
       "    <tr>\n",
       "      <th>9113</th>\n",
       "      <td>Nimble Quest</td>\n",
       "    </tr>\n",
       "    <tr>\n",
       "      <th>9114</th>\n",
       "      <td>Pirate Fighting Simulator</td>\n",
       "    </tr>\n",
       "  </tbody>\n",
       "</table>\n",
       "<p>8590 rows × 1 columns</p>\n",
       "</div>"
      ],
      "text/plain": [
       "                                   title\n",
       "3                 Kerbal Space Program 2\n",
       "4             Shadowverse: Worlds Beyond\n",
       "5                 New York Bus Simulator\n",
       "6                     SHOFER Race Driver\n",
       "7                              Growtopia\n",
       "...                                  ...\n",
       "9110                         Pinball FX3\n",
       "9111  Super Mega Baseball: Extra Innings\n",
       "9112                               英雄群侠传\n",
       "9113                        Nimble Quest\n",
       "9114           Pirate Fighting Simulator\n",
       "\n",
       "[8590 rows x 1 columns]"
      ]
     },
     "execution_count": 28,
     "metadata": {},
     "output_type": "execute_result"
    }
   ],
   "source": [
    "new_game_list = game_list[game_list[\"title\"].apply(lambda x: x not in ['Release', 'Rating', 'Price'])]\n",
    "new_game_list"
   ]
  },
  {
   "cell_type": "code",
   "execution_count": 31,
   "id": "1ebe0ff9-6b91-45ae-a9a5-ad3eea1d82f1",
   "metadata": {},
   "outputs": [],
   "source": [
    "new_game_list.to_csv(\"../data/new_game_list.csv\", index=False)"
   ]
  },
  {
   "cell_type": "code",
   "execution_count": null,
   "id": "a5cfd0da-3346-441b-ba88-9594e2ab8146",
   "metadata": {},
   "outputs": [],
   "source": []
  }
 ],
 "metadata": {
  "kernelspec": {
   "display_name": "Python 3 (ipykernel)",
   "language": "python",
   "name": "python3"
  },
  "language_info": {
   "codemirror_mode": {
    "name": "ipython",
    "version": 3
   },
   "file_extension": ".py",
   "mimetype": "text/x-python",
   "name": "python",
   "nbconvert_exporter": "python",
   "pygments_lexer": "ipython3",
   "version": "3.10.18"
  }
 },
 "nbformat": 4,
 "nbformat_minor": 5
}
