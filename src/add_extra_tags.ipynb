{
 "cells": [
  {
   "cell_type": "code",
   "execution_count": 30,
   "id": "29fcd19c-49ca-481e-8b05-e0eb00ccdd4c",
   "metadata": {},
   "outputs": [],
   "source": [
    "import os, json\n",
    "import pandas as pd"
   ]
  },
  {
   "cell_type": "code",
   "execution_count": 39,
   "id": "a43782ec-339b-42e3-a8e0-6b94f5d4edc3",
   "metadata": {},
   "outputs": [
    {
     "name": "stdout",
     "output_type": "stream",
     "text": [
      "<class 'pandas.core.frame.DataFrame'>\n",
      "RangeIndex: 8357 entries, 0 to 8356\n",
      "Data columns (total 12 columns):\n",
      " #   Column              Non-Null Count  Dtype         \n",
      "---  ------              --------------  -----         \n",
      " 0   title               8357 non-null   object        \n",
      " 1   itad_uuid           8357 non-null   object        \n",
      " 2   type                8002 non-null   category      \n",
      " 3   achievements        8357 non-null   bool          \n",
      " 4   mature              8357 non-null   bool          \n",
      " 5   release_date        8048 non-null   datetime64[ns]\n",
      " 6   rank                8357 non-null   int32         \n",
      " 7   collected           8357 non-null   int32         \n",
      " 8   steam_score         8357 non-null   int32         \n",
      " 9   steam_review_count  8357 non-null   int32         \n",
      " 10  has_release_date    8357 non-null   bool          \n",
      " 11  review_tier         8357 non-null   category      \n",
      "dtypes: bool(3), category(2), datetime64[ns](1), int32(4), object(2)\n",
      "memory usage: 367.7+ KB\n"
     ]
    }
   ],
   "source": [
    "game_info = pd.read_parquet(GAME_INFO_PATH)\n",
    "game_info.info()"
   ]
  },
  {
   "cell_type": "code",
   "execution_count": 40,
   "id": "2ba844a6-679b-4efa-967c-b91544440423",
   "metadata": {},
   "outputs": [],
   "source": [
    "CACHE_PATH = \"../data_raw/info/\"\n",
    "GAME_INFO_PATH = \"../data/game_info.parquet\"\n",
    "game_early_access = []\n",
    "\n",
    "for uid in game_info[\"itad_uuid\"]:\n",
    "    json_link = CACHE_PATH + uid + \".json\"\n",
    "    with open(json_link) as f:\n",
    "        entry = json.load(f)\n",
    "        game_early_access.append({\n",
    "            \"itad_uuid\": uid,\n",
    "            \"early_access\": entry.get(\"earlyAccess\", {}),\n",
    "            \"peak_player_count\": entry.get(\"players\", {}).get(\"peak\")\n",
    "        })\n",
    "\n",
    "game_early_access_df = pd.DataFrame(game_early_access)"
   ]
  },
  {
   "cell_type": "code",
   "execution_count": 41,
   "id": "8e158816-704c-4ea1-b69f-85ad11a84d34",
   "metadata": {},
   "outputs": [
    {
     "data": {
      "text/html": [
       "<div>\n",
       "<style scoped>\n",
       "    .dataframe tbody tr th:only-of-type {\n",
       "        vertical-align: middle;\n",
       "    }\n",
       "\n",
       "    .dataframe tbody tr th {\n",
       "        vertical-align: top;\n",
       "    }\n",
       "\n",
       "    .dataframe thead th {\n",
       "        text-align: right;\n",
       "    }\n",
       "</style>\n",
       "<table border=\"1\" class=\"dataframe\">\n",
       "  <thead>\n",
       "    <tr style=\"text-align: right;\">\n",
       "      <th></th>\n",
       "      <th>itad_uuid</th>\n",
       "      <th>early_access</th>\n",
       "      <th>peak_player_count</th>\n",
       "    </tr>\n",
       "  </thead>\n",
       "  <tbody>\n",
       "    <tr>\n",
       "      <th>0</th>\n",
       "      <td>018d937f-157f-71fc-bc96-6376789a09aa</td>\n",
       "      <td>True</td>\n",
       "      <td>25612</td>\n",
       "    </tr>\n",
       "    <tr>\n",
       "      <th>1</th>\n",
       "      <td>01958f0e-3b2f-712f-9061-440be3587166</td>\n",
       "      <td>False</td>\n",
       "      <td>120488</td>\n",
       "    </tr>\n",
       "    <tr>\n",
       "      <th>2</th>\n",
       "      <td>018d937f-1eeb-71f9-97c7-a28eadd520c8</td>\n",
       "      <td>False</td>\n",
       "      <td>5</td>\n",
       "    </tr>\n",
       "    <tr>\n",
       "      <th>3</th>\n",
       "      <td>018d937f-0411-723e-9c22-89b8fc7a1504</td>\n",
       "      <td>False</td>\n",
       "      <td>2</td>\n",
       "    </tr>\n",
       "    <tr>\n",
       "      <th>4</th>\n",
       "      <td>018d937f-364f-7289-8036-daf6440c4411</td>\n",
       "      <td>False</td>\n",
       "      <td>197</td>\n",
       "    </tr>\n",
       "    <tr>\n",
       "      <th>...</th>\n",
       "      <td>...</td>\n",
       "      <td>...</td>\n",
       "      <td>...</td>\n",
       "    </tr>\n",
       "    <tr>\n",
       "      <th>8352</th>\n",
       "      <td>018d937f-1637-7076-a9cd-4222573b6681</td>\n",
       "      <td>False</td>\n",
       "      <td>810</td>\n",
       "    </tr>\n",
       "    <tr>\n",
       "      <th>8353</th>\n",
       "      <td>018d937e-fdbc-724f-b4ba-de64c4584dcb</td>\n",
       "      <td>False</td>\n",
       "      <td>61</td>\n",
       "    </tr>\n",
       "    <tr>\n",
       "      <th>8354</th>\n",
       "      <td>018d937f-0c2e-7260-a751-24587ce818ae</td>\n",
       "      <td>False</td>\n",
       "      <td>15</td>\n",
       "    </tr>\n",
       "    <tr>\n",
       "      <th>8355</th>\n",
       "      <td>018d937f-0a52-7160-987a-b931775fb32e</td>\n",
       "      <td>False</td>\n",
       "      <td>7</td>\n",
       "    </tr>\n",
       "    <tr>\n",
       "      <th>8356</th>\n",
       "      <td>018d937f-7887-700b-b2e5-b1b7c9cebc87</td>\n",
       "      <td>False</td>\n",
       "      <td>124</td>\n",
       "    </tr>\n",
       "  </tbody>\n",
       "</table>\n",
       "<p>8357 rows × 3 columns</p>\n",
       "</div>"
      ],
      "text/plain": [
       "                                 itad_uuid  early_access  peak_player_count\n",
       "0     018d937f-157f-71fc-bc96-6376789a09aa          True              25612\n",
       "1     01958f0e-3b2f-712f-9061-440be3587166         False             120488\n",
       "2     018d937f-1eeb-71f9-97c7-a28eadd520c8         False                  5\n",
       "3     018d937f-0411-723e-9c22-89b8fc7a1504         False                  2\n",
       "4     018d937f-364f-7289-8036-daf6440c4411         False                197\n",
       "...                                    ...           ...                ...\n",
       "8352  018d937f-1637-7076-a9cd-4222573b6681         False                810\n",
       "8353  018d937e-fdbc-724f-b4ba-de64c4584dcb         False                 61\n",
       "8354  018d937f-0c2e-7260-a751-24587ce818ae         False                 15\n",
       "8355  018d937f-0a52-7160-987a-b931775fb32e         False                  7\n",
       "8356  018d937f-7887-700b-b2e5-b1b7c9cebc87         False                124\n",
       "\n",
       "[8357 rows x 3 columns]"
      ]
     },
     "execution_count": 41,
     "metadata": {},
     "output_type": "execute_result"
    }
   ],
   "source": [
    "game_early_access_df"
   ]
  },
  {
   "cell_type": "code",
   "execution_count": 46,
   "id": "1a2e5cfc-4042-49f0-86ef-be041eb48cbf",
   "metadata": {},
   "outputs": [
    {
     "ename": "MergeError",
     "evalue": "Merge keys are not unique in either left or right dataset; not a one-to-one merge",
     "output_type": "error",
     "traceback": [
      "\u001b[1;31m---------------------------------------------------------------------------\u001b[0m",
      "\u001b[1;31mMergeError\u001b[0m                                Traceback (most recent call last)",
      "Cell \u001b[1;32mIn[46], line 1\u001b[0m\n\u001b[1;32m----> 1\u001b[0m \u001b[43mgame_info\u001b[49m\u001b[38;5;241;43m.\u001b[39;49m\u001b[43mmerge\u001b[49m\u001b[43m(\u001b[49m\u001b[43mgame_early_access_df\u001b[49m\u001b[43m,\u001b[49m\u001b[43m \u001b[49m\u001b[43mon\u001b[49m\u001b[38;5;241;43m=\u001b[39;49m\u001b[38;5;124;43m'\u001b[39;49m\u001b[38;5;124;43mitad_uuid\u001b[39;49m\u001b[38;5;124;43m'\u001b[39;49m\u001b[43m,\u001b[49m\u001b[43m \u001b[49m\u001b[43mhow\u001b[49m\u001b[38;5;241;43m=\u001b[39;49m\u001b[38;5;124;43m\"\u001b[39;49m\u001b[38;5;124;43mleft\u001b[39;49m\u001b[38;5;124;43m\"\u001b[39;49m\u001b[43m,\u001b[49m\u001b[43mvalidate\u001b[49m\u001b[38;5;241;43m=\u001b[39;49m\u001b[38;5;124;43m\"\u001b[39;49m\u001b[38;5;124;43mone_to_one\u001b[39;49m\u001b[38;5;124;43m\"\u001b[39;49m\u001b[43m)\u001b[49m\n",
      "File \u001b[1;32m~\\miniconda3\\envs\\steam-sale-tracker\\lib\\site-packages\\pandas\\core\\frame.py:10487\u001b[0m, in \u001b[0;36mDataFrame.merge\u001b[1;34m(self, right, how, on, left_on, right_on, left_index, right_index, sort, suffixes, copy, indicator, validate)\u001b[0m\n\u001b[0;32m  10468\u001b[0m \u001b[38;5;129m@Substitution\u001b[39m(\u001b[38;5;124m\"\u001b[39m\u001b[38;5;124m\"\u001b[39m)\n\u001b[0;32m  10469\u001b[0m \u001b[38;5;129m@Appender\u001b[39m(_merge_doc, indents\u001b[38;5;241m=\u001b[39m\u001b[38;5;241m2\u001b[39m)\n\u001b[0;32m  10470\u001b[0m \u001b[38;5;28;01mdef\u001b[39;00m\u001b[38;5;250m \u001b[39m\u001b[38;5;21mmerge\u001b[39m(\n\u001b[1;32m   (...)\u001b[0m\n\u001b[0;32m  10483\u001b[0m     validate: MergeValidate \u001b[38;5;241m|\u001b[39m \u001b[38;5;28;01mNone\u001b[39;00m \u001b[38;5;241m=\u001b[39m \u001b[38;5;28;01mNone\u001b[39;00m,\n\u001b[0;32m  10484\u001b[0m ) \u001b[38;5;241m-\u001b[39m\u001b[38;5;241m>\u001b[39m DataFrame:\n\u001b[0;32m  10485\u001b[0m     \u001b[38;5;28;01mfrom\u001b[39;00m\u001b[38;5;250m \u001b[39m\u001b[38;5;21;01mpandas\u001b[39;00m\u001b[38;5;21;01m.\u001b[39;00m\u001b[38;5;21;01mcore\u001b[39;00m\u001b[38;5;21;01m.\u001b[39;00m\u001b[38;5;21;01mreshape\u001b[39;00m\u001b[38;5;21;01m.\u001b[39;00m\u001b[38;5;21;01mmerge\u001b[39;00m\u001b[38;5;250m \u001b[39m\u001b[38;5;28;01mimport\u001b[39;00m merge\n\u001b[1;32m> 10487\u001b[0m     \u001b[38;5;28;01mreturn\u001b[39;00m \u001b[43mmerge\u001b[49m\u001b[43m(\u001b[49m\n\u001b[0;32m  10488\u001b[0m \u001b[43m        \u001b[49m\u001b[38;5;28;43mself\u001b[39;49m\u001b[43m,\u001b[49m\n\u001b[0;32m  10489\u001b[0m \u001b[43m        \u001b[49m\u001b[43mright\u001b[49m\u001b[43m,\u001b[49m\n\u001b[0;32m  10490\u001b[0m \u001b[43m        \u001b[49m\u001b[43mhow\u001b[49m\u001b[38;5;241;43m=\u001b[39;49m\u001b[43mhow\u001b[49m\u001b[43m,\u001b[49m\n\u001b[0;32m  10491\u001b[0m \u001b[43m        \u001b[49m\u001b[43mon\u001b[49m\u001b[38;5;241;43m=\u001b[39;49m\u001b[43mon\u001b[49m\u001b[43m,\u001b[49m\n\u001b[0;32m  10492\u001b[0m \u001b[43m        \u001b[49m\u001b[43mleft_on\u001b[49m\u001b[38;5;241;43m=\u001b[39;49m\u001b[43mleft_on\u001b[49m\u001b[43m,\u001b[49m\n\u001b[0;32m  10493\u001b[0m \u001b[43m        \u001b[49m\u001b[43mright_on\u001b[49m\u001b[38;5;241;43m=\u001b[39;49m\u001b[43mright_on\u001b[49m\u001b[43m,\u001b[49m\n\u001b[0;32m  10494\u001b[0m \u001b[43m        \u001b[49m\u001b[43mleft_index\u001b[49m\u001b[38;5;241;43m=\u001b[39;49m\u001b[43mleft_index\u001b[49m\u001b[43m,\u001b[49m\n\u001b[0;32m  10495\u001b[0m \u001b[43m        \u001b[49m\u001b[43mright_index\u001b[49m\u001b[38;5;241;43m=\u001b[39;49m\u001b[43mright_index\u001b[49m\u001b[43m,\u001b[49m\n\u001b[0;32m  10496\u001b[0m \u001b[43m        \u001b[49m\u001b[43msort\u001b[49m\u001b[38;5;241;43m=\u001b[39;49m\u001b[43msort\u001b[49m\u001b[43m,\u001b[49m\n\u001b[0;32m  10497\u001b[0m \u001b[43m        \u001b[49m\u001b[43msuffixes\u001b[49m\u001b[38;5;241;43m=\u001b[39;49m\u001b[43msuffixes\u001b[49m\u001b[43m,\u001b[49m\n\u001b[0;32m  10498\u001b[0m \u001b[43m        \u001b[49m\u001b[43mcopy\u001b[49m\u001b[38;5;241;43m=\u001b[39;49m\u001b[43mcopy\u001b[49m\u001b[43m,\u001b[49m\n\u001b[0;32m  10499\u001b[0m \u001b[43m        \u001b[49m\u001b[43mindicator\u001b[49m\u001b[38;5;241;43m=\u001b[39;49m\u001b[43mindicator\u001b[49m\u001b[43m,\u001b[49m\n\u001b[0;32m  10500\u001b[0m \u001b[43m        \u001b[49m\u001b[43mvalidate\u001b[49m\u001b[38;5;241;43m=\u001b[39;49m\u001b[43mvalidate\u001b[49m\u001b[43m,\u001b[49m\n\u001b[0;32m  10501\u001b[0m \u001b[43m    \u001b[49m\u001b[43m)\u001b[49m\n",
      "File \u001b[1;32m~\\miniconda3\\envs\\steam-sale-tracker\\lib\\site-packages\\pandas\\core\\reshape\\merge.py:169\u001b[0m, in \u001b[0;36mmerge\u001b[1;34m(left, right, how, on, left_on, right_on, left_index, right_index, sort, suffixes, copy, indicator, validate)\u001b[0m\n\u001b[0;32m    154\u001b[0m     \u001b[38;5;28;01mreturn\u001b[39;00m _cross_merge(\n\u001b[0;32m    155\u001b[0m         left_df,\n\u001b[0;32m    156\u001b[0m         right_df,\n\u001b[1;32m   (...)\u001b[0m\n\u001b[0;32m    166\u001b[0m         copy\u001b[38;5;241m=\u001b[39mcopy,\n\u001b[0;32m    167\u001b[0m     )\n\u001b[0;32m    168\u001b[0m \u001b[38;5;28;01melse\u001b[39;00m:\n\u001b[1;32m--> 169\u001b[0m     op \u001b[38;5;241m=\u001b[39m \u001b[43m_MergeOperation\u001b[49m\u001b[43m(\u001b[49m\n\u001b[0;32m    170\u001b[0m \u001b[43m        \u001b[49m\u001b[43mleft_df\u001b[49m\u001b[43m,\u001b[49m\n\u001b[0;32m    171\u001b[0m \u001b[43m        \u001b[49m\u001b[43mright_df\u001b[49m\u001b[43m,\u001b[49m\n\u001b[0;32m    172\u001b[0m \u001b[43m        \u001b[49m\u001b[43mhow\u001b[49m\u001b[38;5;241;43m=\u001b[39;49m\u001b[43mhow\u001b[49m\u001b[43m,\u001b[49m\n\u001b[0;32m    173\u001b[0m \u001b[43m        \u001b[49m\u001b[43mon\u001b[49m\u001b[38;5;241;43m=\u001b[39;49m\u001b[43mon\u001b[49m\u001b[43m,\u001b[49m\n\u001b[0;32m    174\u001b[0m \u001b[43m        \u001b[49m\u001b[43mleft_on\u001b[49m\u001b[38;5;241;43m=\u001b[39;49m\u001b[43mleft_on\u001b[49m\u001b[43m,\u001b[49m\n\u001b[0;32m    175\u001b[0m \u001b[43m        \u001b[49m\u001b[43mright_on\u001b[49m\u001b[38;5;241;43m=\u001b[39;49m\u001b[43mright_on\u001b[49m\u001b[43m,\u001b[49m\n\u001b[0;32m    176\u001b[0m \u001b[43m        \u001b[49m\u001b[43mleft_index\u001b[49m\u001b[38;5;241;43m=\u001b[39;49m\u001b[43mleft_index\u001b[49m\u001b[43m,\u001b[49m\n\u001b[0;32m    177\u001b[0m \u001b[43m        \u001b[49m\u001b[43mright_index\u001b[49m\u001b[38;5;241;43m=\u001b[39;49m\u001b[43mright_index\u001b[49m\u001b[43m,\u001b[49m\n\u001b[0;32m    178\u001b[0m \u001b[43m        \u001b[49m\u001b[43msort\u001b[49m\u001b[38;5;241;43m=\u001b[39;49m\u001b[43msort\u001b[49m\u001b[43m,\u001b[49m\n\u001b[0;32m    179\u001b[0m \u001b[43m        \u001b[49m\u001b[43msuffixes\u001b[49m\u001b[38;5;241;43m=\u001b[39;49m\u001b[43msuffixes\u001b[49m\u001b[43m,\u001b[49m\n\u001b[0;32m    180\u001b[0m \u001b[43m        \u001b[49m\u001b[43mindicator\u001b[49m\u001b[38;5;241;43m=\u001b[39;49m\u001b[43mindicator\u001b[49m\u001b[43m,\u001b[49m\n\u001b[0;32m    181\u001b[0m \u001b[43m        \u001b[49m\u001b[43mvalidate\u001b[49m\u001b[38;5;241;43m=\u001b[39;49m\u001b[43mvalidate\u001b[49m\u001b[43m,\u001b[49m\n\u001b[0;32m    182\u001b[0m \u001b[43m    \u001b[49m\u001b[43m)\u001b[49m\n\u001b[0;32m    183\u001b[0m     \u001b[38;5;28;01mreturn\u001b[39;00m op\u001b[38;5;241m.\u001b[39mget_result(copy\u001b[38;5;241m=\u001b[39mcopy)\n",
      "File \u001b[1;32m~\\miniconda3\\envs\\steam-sale-tracker\\lib\\site-packages\\pandas\\core\\reshape\\merge.py:810\u001b[0m, in \u001b[0;36m_MergeOperation.__init__\u001b[1;34m(self, left, right, how, on, left_on, right_on, left_index, right_index, sort, suffixes, indicator, validate)\u001b[0m\n\u001b[0;32m    806\u001b[0m \u001b[38;5;66;03m# If argument passed to validate,\u001b[39;00m\n\u001b[0;32m    807\u001b[0m \u001b[38;5;66;03m# check if columns specified as unique\u001b[39;00m\n\u001b[0;32m    808\u001b[0m \u001b[38;5;66;03m# are in fact unique.\u001b[39;00m\n\u001b[0;32m    809\u001b[0m \u001b[38;5;28;01mif\u001b[39;00m validate \u001b[38;5;129;01mis\u001b[39;00m \u001b[38;5;129;01mnot\u001b[39;00m \u001b[38;5;28;01mNone\u001b[39;00m:\n\u001b[1;32m--> 810\u001b[0m     \u001b[38;5;28;43mself\u001b[39;49m\u001b[38;5;241;43m.\u001b[39;49m\u001b[43m_validate_validate_kwd\u001b[49m\u001b[43m(\u001b[49m\u001b[43mvalidate\u001b[49m\u001b[43m)\u001b[49m\n",
      "File \u001b[1;32m~\\miniconda3\\envs\\steam-sale-tracker\\lib\\site-packages\\pandas\\core\\reshape\\merge.py:1614\u001b[0m, in \u001b[0;36m_MergeOperation._validate_validate_kwd\u001b[1;34m(self, validate)\u001b[0m\n\u001b[0;32m   1612\u001b[0m \u001b[38;5;28;01mif\u001b[39;00m validate \u001b[38;5;129;01min\u001b[39;00m [\u001b[38;5;124m\"\u001b[39m\u001b[38;5;124mone_to_one\u001b[39m\u001b[38;5;124m\"\u001b[39m, \u001b[38;5;124m\"\u001b[39m\u001b[38;5;124m1:1\u001b[39m\u001b[38;5;124m\"\u001b[39m]:\n\u001b[0;32m   1613\u001b[0m     \u001b[38;5;28;01mif\u001b[39;00m \u001b[38;5;129;01mnot\u001b[39;00m left_unique \u001b[38;5;129;01mand\u001b[39;00m \u001b[38;5;129;01mnot\u001b[39;00m right_unique:\n\u001b[1;32m-> 1614\u001b[0m         \u001b[38;5;28;01mraise\u001b[39;00m MergeError(\n\u001b[0;32m   1615\u001b[0m             \u001b[38;5;124m\"\u001b[39m\u001b[38;5;124mMerge keys are not unique in either left \u001b[39m\u001b[38;5;124m\"\u001b[39m\n\u001b[0;32m   1616\u001b[0m             \u001b[38;5;124m\"\u001b[39m\u001b[38;5;124mor right dataset; not a one-to-one merge\u001b[39m\u001b[38;5;124m\"\u001b[39m\n\u001b[0;32m   1617\u001b[0m         )\n\u001b[0;32m   1618\u001b[0m     \u001b[38;5;28;01mif\u001b[39;00m \u001b[38;5;129;01mnot\u001b[39;00m left_unique:\n\u001b[0;32m   1619\u001b[0m         \u001b[38;5;28;01mraise\u001b[39;00m MergeError(\n\u001b[0;32m   1620\u001b[0m             \u001b[38;5;124m\"\u001b[39m\u001b[38;5;124mMerge keys are not unique in left dataset; not a one-to-one merge\u001b[39m\u001b[38;5;124m\"\u001b[39m\n\u001b[0;32m   1621\u001b[0m         )\n",
      "\u001b[1;31mMergeError\u001b[0m: Merge keys are not unique in either left or right dataset; not a one-to-one merge"
     ]
    }
   ],
   "source": [
    "game_info.merge(game_early_access_df, on='itad_uuid', how=\"left\",validate=\"one_to_one\")"
   ]
  },
  {
   "cell_type": "code",
   "execution_count": 44,
   "id": "3321a6a4-8e17-4a95-a294-c2d800253f7c",
   "metadata": {},
   "outputs": [
    {
     "name": "stdout",
     "output_type": "stream",
     "text": [
      "8357 8353 8357 8353\n"
     ]
    }
   ],
   "source": [
    "# quick uniqueness checks\n",
    "game_info[\"itad_uuid\"] = game_info[\"itad_uuid\"].astype(str).str.strip()\n",
    "game_early_access_df[\"itad_uuid\"] = game_early_access_df[\"itad_uuid\"].astype(str).str.strip()\n",
    "\n",
    "len_left = len(game_info)\n",
    "len_right = len(game_early_access_df)\n",
    "nuniq_left = game_info[\"itad_uuid\"].nunique()\n",
    "nuniq_right = game_early_access_df[\"itad_uuid\"].nunique()\n",
    "print(len_left, nuniq_left, len_right, nuniq_right)\n",
    "# If len != nunique on either side, that side has duplicate keys.\n"
   ]
  },
  {
   "cell_type": "code",
   "execution_count": 45,
   "id": "0a2e3719-42f6-4d6b-9027-ee1b96e61934",
   "metadata": {},
   "outputs": [
    {
     "name": "stdout",
     "output_type": "stream",
     "text": [
      "Left dup count: 4\n",
      "Right dup count: 4\n"
     ]
    }
   ],
   "source": [
    "dups_left = (game_info[\"itad_uuid\"]\n",
    "             .value_counts()\n",
    "             .loc[lambda s: s>1]\n",
    "             .index.tolist())\n",
    "\n",
    "dups_right = (game_early_access_df[\"itad_uuid\"]\n",
    "              .value_counts()\n",
    "              .loc[lambda s: s>1]\n",
    "              .index.tolist())\n",
    "\n",
    "print(\"Left dup count:\", len(dups_left))\n",
    "print(\"Right dup count:\", len(dups_right))\n"
   ]
  },
  {
   "cell_type": "code",
   "execution_count": 59,
   "id": "6bbe1e34-9153-4709-9f89-c937add3c3c5",
   "metadata": {},
   "outputs": [
    {
     "data": {
      "text/html": [
       "<div>\n",
       "<style scoped>\n",
       "    .dataframe tbody tr th:only-of-type {\n",
       "        vertical-align: middle;\n",
       "    }\n",
       "\n",
       "    .dataframe tbody tr th {\n",
       "        vertical-align: top;\n",
       "    }\n",
       "\n",
       "    .dataframe thead th {\n",
       "        text-align: right;\n",
       "    }\n",
       "</style>\n",
       "<table border=\"1\" class=\"dataframe\">\n",
       "  <thead>\n",
       "    <tr style=\"text-align: right;\">\n",
       "      <th></th>\n",
       "      <th>itad_uuid</th>\n",
       "      <th>early_access</th>\n",
       "      <th>peak_player_count</th>\n",
       "    </tr>\n",
       "  </thead>\n",
       "  <tbody>\n",
       "    <tr>\n",
       "      <th>2073</th>\n",
       "      <td>018d937f-6e8b-73d0-bfb7-ba50cd5fc7bd</td>\n",
       "      <td>False</td>\n",
       "      <td>51</td>\n",
       "    </tr>\n",
       "    <tr>\n",
       "      <th>2579</th>\n",
       "      <td>018d937e-f8cf-70ed-9f25-732f80db0f78</td>\n",
       "      <td>False</td>\n",
       "      <td>150</td>\n",
       "    </tr>\n",
       "    <tr>\n",
       "      <th>4739</th>\n",
       "      <td>018d937e-f046-71c3-8bca-f9ee16f9fb99</td>\n",
       "      <td>False</td>\n",
       "      <td>61</td>\n",
       "    </tr>\n",
       "    <tr>\n",
       "      <th>5130</th>\n",
       "      <td>018d937e-f4ea-713c-bd5a-28e490af0025</td>\n",
       "      <td>False</td>\n",
       "      <td>10</td>\n",
       "    </tr>\n",
       "  </tbody>\n",
       "</table>\n",
       "</div>"
      ],
      "text/plain": [
       "                                 itad_uuid  early_access  peak_player_count\n",
       "2073  018d937f-6e8b-73d0-bfb7-ba50cd5fc7bd         False                 51\n",
       "2579  018d937e-f8cf-70ed-9f25-732f80db0f78         False                150\n",
       "4739  018d937e-f046-71c3-8bca-f9ee16f9fb99         False                 61\n",
       "5130  018d937e-f4ea-713c-bd5a-28e490af0025         False                 10"
      ]
     },
     "execution_count": 59,
     "metadata": {},
     "output_type": "execute_result"
    }
   ],
   "source": [
    "game_early_access_df[game_early_access_df.duplicated()]"
   ]
  },
  {
   "cell_type": "code",
   "execution_count": 60,
   "id": "3b4f82a2-8809-4014-9071-314ae1431801",
   "metadata": {},
   "outputs": [
    {
     "data": {
      "text/html": [
       "<div>\n",
       "<style scoped>\n",
       "    .dataframe tbody tr th:only-of-type {\n",
       "        vertical-align: middle;\n",
       "    }\n",
       "\n",
       "    .dataframe tbody tr th {\n",
       "        vertical-align: top;\n",
       "    }\n",
       "\n",
       "    .dataframe thead th {\n",
       "        text-align: right;\n",
       "    }\n",
       "</style>\n",
       "<table border=\"1\" class=\"dataframe\">\n",
       "  <thead>\n",
       "    <tr style=\"text-align: right;\">\n",
       "      <th></th>\n",
       "      <th>itad_uuid</th>\n",
       "      <th>early_access</th>\n",
       "      <th>peak_player_count</th>\n",
       "    </tr>\n",
       "  </thead>\n",
       "  <tbody>\n",
       "    <tr>\n",
       "      <th>134</th>\n",
       "      <td>018d937f-6e8b-73d0-bfb7-ba50cd5fc7bd</td>\n",
       "      <td>False</td>\n",
       "      <td>51</td>\n",
       "    </tr>\n",
       "    <tr>\n",
       "      <th>2073</th>\n",
       "      <td>018d937f-6e8b-73d0-bfb7-ba50cd5fc7bd</td>\n",
       "      <td>False</td>\n",
       "      <td>51</td>\n",
       "    </tr>\n",
       "  </tbody>\n",
       "</table>\n",
       "</div>"
      ],
      "text/plain": [
       "                                 itad_uuid  early_access  peak_player_count\n",
       "134   018d937f-6e8b-73d0-bfb7-ba50cd5fc7bd         False                 51\n",
       "2073  018d937f-6e8b-73d0-bfb7-ba50cd5fc7bd         False                 51"
      ]
     },
     "execution_count": 60,
     "metadata": {},
     "output_type": "execute_result"
    }
   ],
   "source": [
    "game_early_access_df.query(\"itad_uuid == '018d937f-6e8b-73d0-bfb7-ba50cd5fc7bd'\")"
   ]
  },
  {
   "cell_type": "code",
   "execution_count": 54,
   "id": "24863533-b09a-4338-a6f2-731f302963e5",
   "metadata": {},
   "outputs": [
    {
     "data": {
      "text/html": [
       "<div>\n",
       "<style scoped>\n",
       "    .dataframe tbody tr th:only-of-type {\n",
       "        vertical-align: middle;\n",
       "    }\n",
       "\n",
       "    .dataframe tbody tr th {\n",
       "        vertical-align: top;\n",
       "    }\n",
       "\n",
       "    .dataframe thead th {\n",
       "        text-align: right;\n",
       "    }\n",
       "</style>\n",
       "<table border=\"1\" class=\"dataframe\">\n",
       "  <thead>\n",
       "    <tr style=\"text-align: right;\">\n",
       "      <th></th>\n",
       "      <th>title</th>\n",
       "      <th>itad_uuid</th>\n",
       "      <th>type</th>\n",
       "      <th>achievements</th>\n",
       "      <th>mature</th>\n",
       "      <th>release_date</th>\n",
       "      <th>rank</th>\n",
       "      <th>collected</th>\n",
       "      <th>steam_score</th>\n",
       "      <th>steam_review_count</th>\n",
       "      <th>has_release_date</th>\n",
       "      <th>review_tier</th>\n",
       "    </tr>\n",
       "  </thead>\n",
       "  <tbody>\n",
       "    <tr>\n",
       "      <th>1621</th>\n",
       "      <td>CATS!</td>\n",
       "      <td>018d937e-f4ea-713c-bd5a-28e490af0025</td>\n",
       "      <td>game</td>\n",
       "      <td>True</td>\n",
       "      <td>False</td>\n",
       "      <td>2016-06-24</td>\n",
       "      <td>12112</td>\n",
       "      <td>3361</td>\n",
       "      <td>34</td>\n",
       "      <td>108</td>\n",
       "      <td>True</td>\n",
       "      <td>Poor</td>\n",
       "    </tr>\n",
       "    <tr>\n",
       "      <th>5130</th>\n",
       "      <td>Cats</td>\n",
       "      <td>018d937e-f4ea-713c-bd5a-28e490af0025</td>\n",
       "      <td>game</td>\n",
       "      <td>True</td>\n",
       "      <td>False</td>\n",
       "      <td>2016-06-24</td>\n",
       "      <td>12112</td>\n",
       "      <td>3361</td>\n",
       "      <td>34</td>\n",
       "      <td>108</td>\n",
       "      <td>True</td>\n",
       "      <td>Poor</td>\n",
       "    </tr>\n",
       "  </tbody>\n",
       "</table>\n",
       "</div>"
      ],
      "text/plain": [
       "      title                             itad_uuid  type  achievements  mature  \\\n",
       "1621  CATS!  018d937e-f4ea-713c-bd5a-28e490af0025  game          True   False   \n",
       "5130   Cats  018d937e-f4ea-713c-bd5a-28e490af0025  game          True   False   \n",
       "\n",
       "     release_date   rank  collected  steam_score  steam_review_count  \\\n",
       "1621   2016-06-24  12112       3361           34                 108   \n",
       "5130   2016-06-24  12112       3361           34                 108   \n",
       "\n",
       "      has_release_date review_tier  \n",
       "1621              True        Poor  \n",
       "5130              True        Poor  "
      ]
     },
     "execution_count": 54,
     "metadata": {},
     "output_type": "execute_result"
    }
   ],
   "source": [
    "game_info.query(\"itad_uuid == '018d937e-f4ea-713c-bd5a-28e490af0025'\")"
   ]
  },
  {
   "cell_type": "code",
   "execution_count": 61,
   "id": "514528b3-f4c1-48d2-9e18-62b69afd48dd",
   "metadata": {},
   "outputs": [],
   "source": [
    "dedup_right = (game_early_access_df.drop_duplicates(subset=[\"itad_uuid\"], keep=\"last\"))"
   ]
  },
  {
   "cell_type": "code",
   "execution_count": 62,
   "id": "f660b800-0e14-451d-90a2-be06eaeae869",
   "metadata": {},
   "outputs": [
    {
     "name": "stdout",
     "output_type": "stream",
     "text": [
      "<class 'pandas.core.frame.DataFrame'>\n",
      "Index: 8353 entries, 0 to 8356\n",
      "Data columns (total 3 columns):\n",
      " #   Column             Non-Null Count  Dtype \n",
      "---  ------             --------------  ----- \n",
      " 0   itad_uuid          8353 non-null   object\n",
      " 1   early_access       8353 non-null   bool  \n",
      " 2   peak_player_count  8353 non-null   int64 \n",
      "dtypes: bool(1), int64(1), object(1)\n",
      "memory usage: 203.9+ KB\n"
     ]
    }
   ],
   "source": [
    "dedup_right.info()"
   ]
  },
  {
   "cell_type": "code",
   "execution_count": 58,
   "id": "5c4337d5-dcb1-4e4c-920c-619af6b09e13",
   "metadata": {},
   "outputs": [
    {
     "data": {
      "text/html": [
       "<div>\n",
       "<style scoped>\n",
       "    .dataframe tbody tr th:only-of-type {\n",
       "        vertical-align: middle;\n",
       "    }\n",
       "\n",
       "    .dataframe tbody tr th {\n",
       "        vertical-align: top;\n",
       "    }\n",
       "\n",
       "    .dataframe thead th {\n",
       "        text-align: right;\n",
       "    }\n",
       "</style>\n",
       "<table border=\"1\" class=\"dataframe\">\n",
       "  <thead>\n",
       "    <tr style=\"text-align: right;\">\n",
       "      <th></th>\n",
       "      <th>itad_uuid</th>\n",
       "      <th>early_access</th>\n",
       "      <th>peak_player_count</th>\n",
       "    </tr>\n",
       "  </thead>\n",
       "  <tbody>\n",
       "  </tbody>\n",
       "</table>\n",
       "</div>"
      ],
      "text/plain": [
       "Empty DataFrame\n",
       "Columns: [itad_uuid, early_access, peak_player_count]\n",
       "Index: []"
      ]
     },
     "execution_count": 58,
     "metadata": {},
     "output_type": "execute_result"
    }
   ],
   "source": [
    "dedup_right[dedup_right.duplicated()]"
   ]
  },
  {
   "cell_type": "code",
   "execution_count": 63,
   "id": "b95e5232-2e0f-4f6e-8bfc-10ee10874cac",
   "metadata": {},
   "outputs": [],
   "source": [
    "game_info = game_info.drop_duplicates(subset=['itad_uuid'], keep='last')"
   ]
  },
  {
   "cell_type": "code",
   "execution_count": 64,
   "id": "3185d37a-a19e-43e7-8932-f6af9eaf37af",
   "metadata": {},
   "outputs": [],
   "source": [
    "merged = game_info.merge(\n",
    "    dedup_right,\n",
    "    on=\"itad_uuid\",\n",
    "    how=\"left\",\n",
    "    validate=\"one_to_one\"\n",
    ")"
   ]
  },
  {
   "cell_type": "code",
   "execution_count": 66,
   "id": "30c3b53e-bbe4-4f51-a51b-7aae7223bdb5",
   "metadata": {},
   "outputs": [
    {
     "name": "stdout",
     "output_type": "stream",
     "text": [
      "<class 'pandas.core.frame.DataFrame'>\n",
      "RangeIndex: 8353 entries, 0 to 8352\n",
      "Data columns (total 14 columns):\n",
      " #   Column              Non-Null Count  Dtype         \n",
      "---  ------              --------------  -----         \n",
      " 0   title               8353 non-null   object        \n",
      " 1   itad_uuid           8353 non-null   object        \n",
      " 2   type                7998 non-null   category      \n",
      " 3   achievements        8353 non-null   bool          \n",
      " 4   mature              8353 non-null   bool          \n",
      " 5   release_date        8044 non-null   datetime64[ns]\n",
      " 6   rank                8353 non-null   int32         \n",
      " 7   collected           8353 non-null   int32         \n",
      " 8   steam_score         8353 non-null   int32         \n",
      " 9   steam_review_count  8353 non-null   int32         \n",
      " 10  has_release_date    8353 non-null   bool          \n",
      " 11  review_tier         8353 non-null   category      \n",
      " 12  early_access        8353 non-null   bool          \n",
      " 13  peak_player_count   8353 non-null   int64         \n",
      "dtypes: bool(4), category(2), datetime64[ns](1), int32(4), int64(1), object(2)\n",
      "memory usage: 441.0+ KB\n"
     ]
    }
   ],
   "source": [
    "merged.info()"
   ]
  },
  {
   "cell_type": "code",
   "execution_count": 67,
   "id": "512aedc6-3a34-4b9d-a3c8-47c1b65ac0bb",
   "metadata": {},
   "outputs": [],
   "source": [
    "merged.to_parquet(\"../data/game_info.parquet\")"
   ]
  },
  {
   "cell_type": "code",
   "execution_count": null,
   "id": "43974505-4e46-4d36-9a18-4d07d9af70b2",
   "metadata": {},
   "outputs": [],
   "source": []
  }
 ],
 "metadata": {
  "kernelspec": {
   "display_name": "Python 3 (ipykernel)",
   "language": "python",
   "name": "python3"
  },
  "language_info": {
   "codemirror_mode": {
    "name": "ipython",
    "version": 3
   },
   "file_extension": ".py",
   "mimetype": "text/x-python",
   "name": "python",
   "nbconvert_exporter": "python",
   "pygments_lexer": "ipython3",
   "version": "3.10.18"
  }
 },
 "nbformat": 4,
 "nbformat_minor": 5
}
