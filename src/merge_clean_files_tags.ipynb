{
 "cells": [
  {
   "cell_type": "code",
   "execution_count": 101,
   "id": "c176776a-0b4c-436b-b985-161f4a546ef6",
   "metadata": {},
   "outputs": [],
   "source": [
    "import pandas as pd\n",
    "import pyarrow\n",
    "from ast import literal_eval"
   ]
  },
  {
   "cell_type": "code",
   "execution_count": 3,
   "id": "7cad0bed-70b6-4613-a41b-dcfc21acdf76",
   "metadata": {},
   "outputs": [],
   "source": [
    "game_list = pd.read_parquet(\"../data/game_list.parquet\")\n",
    "game_info = pd.read_csv(\"../data/game_info.csv\")"
   ]
  },
  {
   "cell_type": "code",
   "execution_count": 4,
   "id": "f5410bb7-cc89-450f-a512-02170ad9b9c1",
   "metadata": {},
   "outputs": [
    {
     "data": {
      "text/html": [
       "<div>\n",
       "<style scoped>\n",
       "    .dataframe tbody tr th:only-of-type {\n",
       "        vertical-align: middle;\n",
       "    }\n",
       "\n",
       "    .dataframe tbody tr th {\n",
       "        vertical-align: top;\n",
       "    }\n",
       "\n",
       "    .dataframe thead th {\n",
       "        text-align: right;\n",
       "    }\n",
       "</style>\n",
       "<table border=\"1\" class=\"dataframe\">\n",
       "  <thead>\n",
       "    <tr style=\"text-align: right;\">\n",
       "      <th></th>\n",
       "      <th>title</th>\n",
       "      <th>itad_uuid</th>\n",
       "    </tr>\n",
       "  </thead>\n",
       "  <tbody>\n",
       "    <tr>\n",
       "      <th>0</th>\n",
       "      <td>Kerbal Space Program 2</td>\n",
       "      <td>018d937f-157f-71fc-bc96-6376789a09aa</td>\n",
       "    </tr>\n",
       "    <tr>\n",
       "      <th>1</th>\n",
       "      <td>Shadowverse: Worlds Beyond</td>\n",
       "      <td>01958f0e-3b2f-712f-9061-440be3587166</td>\n",
       "    </tr>\n",
       "    <tr>\n",
       "      <th>2</th>\n",
       "      <td>New York Bus Simulator</td>\n",
       "      <td>018d937f-1eeb-71f9-97c7-a28eadd520c8</td>\n",
       "    </tr>\n",
       "    <tr>\n",
       "      <th>3</th>\n",
       "      <td>SHOFER Race Driver</td>\n",
       "      <td>018d937f-0411-723e-9c22-89b8fc7a1504</td>\n",
       "    </tr>\n",
       "    <tr>\n",
       "      <th>4</th>\n",
       "      <td>Growtopia</td>\n",
       "      <td>018d937f-364f-7289-8036-daf6440c4411</td>\n",
       "    </tr>\n",
       "  </tbody>\n",
       "</table>\n",
       "</div>"
      ],
      "text/plain": [
       "                        title                             itad_uuid\n",
       "0      Kerbal Space Program 2  018d937f-157f-71fc-bc96-6376789a09aa\n",
       "1  Shadowverse: Worlds Beyond  01958f0e-3b2f-712f-9061-440be3587166\n",
       "2      New York Bus Simulator  018d937f-1eeb-71f9-97c7-a28eadd520c8\n",
       "3          SHOFER Race Driver  018d937f-0411-723e-9c22-89b8fc7a1504\n",
       "4                   Growtopia  018d937f-364f-7289-8036-daf6440c4411"
      ]
     },
     "execution_count": 4,
     "metadata": {},
     "output_type": "execute_result"
    }
   ],
   "source": [
    "game_list.head()"
   ]
  },
  {
   "cell_type": "code",
   "execution_count": 5,
   "id": "4471904d-f32d-4662-9d46-78738d101d7f",
   "metadata": {},
   "outputs": [
    {
     "data": {
      "text/html": [
       "<div>\n",
       "<style scoped>\n",
       "    .dataframe tbody tr th:only-of-type {\n",
       "        vertical-align: middle;\n",
       "    }\n",
       "\n",
       "    .dataframe tbody tr th {\n",
       "        vertical-align: top;\n",
       "    }\n",
       "\n",
       "    .dataframe thead th {\n",
       "        text-align: right;\n",
       "    }\n",
       "</style>\n",
       "<table border=\"1\" class=\"dataframe\">\n",
       "  <thead>\n",
       "    <tr style=\"text-align: right;\">\n",
       "      <th></th>\n",
       "      <th>itad_uuid</th>\n",
       "      <th>type</th>\n",
       "      <th>achievements</th>\n",
       "      <th>mature</th>\n",
       "      <th>release_date</th>\n",
       "      <th>rank</th>\n",
       "      <th>collected</th>\n",
       "      <th>steam_score</th>\n",
       "      <th>steam_review_count</th>\n",
       "      <th>tags</th>\n",
       "    </tr>\n",
       "  </thead>\n",
       "  <tbody>\n",
       "    <tr>\n",
       "      <th>0</th>\n",
       "      <td>018d937f-157f-71fc-bc96-6376789a09aa</td>\n",
       "      <td>game</td>\n",
       "      <td>False</td>\n",
       "      <td>False</td>\n",
       "      <td>2023-02-24</td>\n",
       "      <td>2511</td>\n",
       "      <td>907</td>\n",
       "      <td>29.0</td>\n",
       "      <td>26212.0</td>\n",
       "      <td>['Space', 'Sandbox', 'Exploration', 'Building'...</td>\n",
       "    </tr>\n",
       "    <tr>\n",
       "      <th>1</th>\n",
       "      <td>01958f0e-3b2f-712f-9061-440be3587166</td>\n",
       "      <td>game</td>\n",
       "      <td>True</td>\n",
       "      <td>False</td>\n",
       "      <td>2025-06-15</td>\n",
       "      <td>27430</td>\n",
       "      <td>1216</td>\n",
       "      <td>29.0</td>\n",
       "      <td>12864.0</td>\n",
       "      <td>['Free to Play', 'Card Battler', 'Trading Card...</td>\n",
       "    </tr>\n",
       "    <tr>\n",
       "      <th>2</th>\n",
       "      <td>018d937f-1eeb-71f9-97c7-a28eadd520c8</td>\n",
       "      <td>game</td>\n",
       "      <td>False</td>\n",
       "      <td>False</td>\n",
       "      <td>2014-06-03</td>\n",
       "      <td>23682</td>\n",
       "      <td>1322</td>\n",
       "      <td>51.0</td>\n",
       "      <td>95.0</td>\n",
       "      <td>['Automobile Sim', 'Simulation', 'Driving', 'R...</td>\n",
       "    </tr>\n",
       "    <tr>\n",
       "      <th>3</th>\n",
       "      <td>018d937f-0411-723e-9c22-89b8fc7a1504</td>\n",
       "      <td>game</td>\n",
       "      <td>False</td>\n",
       "      <td>False</td>\n",
       "      <td>2015-07-01</td>\n",
       "      <td>21825</td>\n",
       "      <td>1641</td>\n",
       "      <td>25.0</td>\n",
       "      <td>4.0</td>\n",
       "      <td>['Racing', 'Indie', 'Sports', 'Simulation']</td>\n",
       "    </tr>\n",
       "    <tr>\n",
       "      <th>4</th>\n",
       "      <td>018d937f-364f-7289-8036-daf6440c4411</td>\n",
       "      <td>game</td>\n",
       "      <td>True</td>\n",
       "      <td>False</td>\n",
       "      <td>2012-11-30</td>\n",
       "      <td>38847</td>\n",
       "      <td>948</td>\n",
       "      <td>26.0</td>\n",
       "      <td>1773.0</td>\n",
       "      <td>['Casual', 'Adventure', 'Simulation', 'MMORPG'...</td>\n",
       "    </tr>\n",
       "  </tbody>\n",
       "</table>\n",
       "</div>"
      ],
      "text/plain": [
       "                              itad_uuid  type  achievements  mature  \\\n",
       "0  018d937f-157f-71fc-bc96-6376789a09aa  game         False   False   \n",
       "1  01958f0e-3b2f-712f-9061-440be3587166  game          True   False   \n",
       "2  018d937f-1eeb-71f9-97c7-a28eadd520c8  game         False   False   \n",
       "3  018d937f-0411-723e-9c22-89b8fc7a1504  game         False   False   \n",
       "4  018d937f-364f-7289-8036-daf6440c4411  game          True   False   \n",
       "\n",
       "  release_date   rank  collected  steam_score  steam_review_count  \\\n",
       "0   2023-02-24   2511        907         29.0             26212.0   \n",
       "1   2025-06-15  27430       1216         29.0             12864.0   \n",
       "2   2014-06-03  23682       1322         51.0                95.0   \n",
       "3   2015-07-01  21825       1641         25.0                 4.0   \n",
       "4   2012-11-30  38847        948         26.0              1773.0   \n",
       "\n",
       "                                                tags  \n",
       "0  ['Space', 'Sandbox', 'Exploration', 'Building'...  \n",
       "1  ['Free to Play', 'Card Battler', 'Trading Card...  \n",
       "2  ['Automobile Sim', 'Simulation', 'Driving', 'R...  \n",
       "3        ['Racing', 'Indie', 'Sports', 'Simulation']  \n",
       "4  ['Casual', 'Adventure', 'Simulation', 'MMORPG'...  "
      ]
     },
     "execution_count": 5,
     "metadata": {},
     "output_type": "execute_result"
    }
   ],
   "source": [
    "game_info.head()"
   ]
  },
  {
   "cell_type": "code",
   "execution_count": 21,
   "id": "f33ea6c3-7223-4385-b942-29a45392f2f8",
   "metadata": {},
   "outputs": [],
   "source": [
    "# RESET IF NEEDED\n",
    "merged = pd.merge(game_list, game_info, on=\"itad_uuid\", how=\"left\")"
   ]
  },
  {
   "cell_type": "code",
   "execution_count": 8,
   "id": "e6c26081-5b53-4601-8c1b-4ee47ad41ee3",
   "metadata": {},
   "outputs": [
    {
     "name": "stdout",
     "output_type": "stream",
     "text": [
      "<class 'pandas.core.frame.DataFrame'>\n",
      "RangeIndex: 8532 entries, 0 to 8531\n",
      "Data columns (total 11 columns):\n",
      " #   Column              Non-Null Count  Dtype  \n",
      "---  ------              --------------  -----  \n",
      " 0   title               8532 non-null   object \n",
      " 1   itad_uuid           8528 non-null   object \n",
      " 2   type                8071 non-null   object \n",
      " 3   achievements        8528 non-null   object \n",
      " 4   mature              8528 non-null   object \n",
      " 5   release_date        8119 non-null   object \n",
      " 6   rank                8528 non-null   float64\n",
      " 7   collected           8528 non-null   float64\n",
      " 8   steam_score         8357 non-null   float64\n",
      " 9   steam_review_count  8357 non-null   float64\n",
      " 10  tags                8528 non-null   object \n",
      "dtypes: float64(4), object(7)\n",
      "memory usage: 733.3+ KB\n"
     ]
    }
   ],
   "source": [
    "merged.info()"
   ]
  },
  {
   "cell_type": "code",
   "execution_count": 48,
   "id": "52d6c7a4-6d9a-4de0-a8c5-c9f05e635dc1",
   "metadata": {},
   "outputs": [],
   "source": [
    "new_merged = merged.loc[merged['itad_uuid'].notnull()]"
   ]
  },
  {
   "cell_type": "code",
   "execution_count": 25,
   "id": "e14abf57-4141-4aec-bab8-e01d420da448",
   "metadata": {},
   "outputs": [
    {
     "name": "stdout",
     "output_type": "stream",
     "text": [
      "<class 'pandas.core.frame.DataFrame'>\n",
      "Index: 8528 entries, 0 to 8531\n",
      "Data columns (total 11 columns):\n",
      " #   Column              Non-Null Count  Dtype  \n",
      "---  ------              --------------  -----  \n",
      " 0   title               8528 non-null   object \n",
      " 1   itad_uuid           8528 non-null   object \n",
      " 2   type                8071 non-null   object \n",
      " 3   achievements        8528 non-null   object \n",
      " 4   mature              8528 non-null   object \n",
      " 5   release_date        8119 non-null   object \n",
      " 6   rank                8528 non-null   float64\n",
      " 7   collected           8528 non-null   float64\n",
      " 8   steam_score         8357 non-null   float64\n",
      " 9   steam_review_count  8357 non-null   float64\n",
      " 10  tags                8528 non-null   object \n",
      "dtypes: float64(4), object(7)\n",
      "memory usage: 799.5+ KB\n"
     ]
    }
   ],
   "source": [
    "new_merged.info()"
   ]
  },
  {
   "cell_type": "code",
   "execution_count": 49,
   "id": "e26e1dac-3c12-477d-a4d2-dc8425ec8d0a",
   "metadata": {},
   "outputs": [
    {
     "data": {
      "text/html": [
       "<div>\n",
       "<style scoped>\n",
       "    .dataframe tbody tr th:only-of-type {\n",
       "        vertical-align: middle;\n",
       "    }\n",
       "\n",
       "    .dataframe tbody tr th {\n",
       "        vertical-align: top;\n",
       "    }\n",
       "\n",
       "    .dataframe thead th {\n",
       "        text-align: right;\n",
       "    }\n",
       "</style>\n",
       "<table border=\"1\" class=\"dataframe\">\n",
       "  <thead>\n",
       "    <tr style=\"text-align: right;\">\n",
       "      <th></th>\n",
       "      <th>title</th>\n",
       "      <th>itad_uuid</th>\n",
       "      <th>type</th>\n",
       "      <th>achievements</th>\n",
       "      <th>mature</th>\n",
       "      <th>release_date</th>\n",
       "      <th>rank</th>\n",
       "      <th>collected</th>\n",
       "      <th>steam_score</th>\n",
       "      <th>steam_review_count</th>\n",
       "      <th>tags</th>\n",
       "    </tr>\n",
       "  </thead>\n",
       "  <tbody>\n",
       "    <tr>\n",
       "      <th>0</th>\n",
       "      <td>Kerbal Space Program 2</td>\n",
       "      <td>018d937f-157f-71fc-bc96-6376789a09aa</td>\n",
       "      <td>game</td>\n",
       "      <td>False</td>\n",
       "      <td>False</td>\n",
       "      <td>2023-02-24</td>\n",
       "      <td>2511.0</td>\n",
       "      <td>907.0</td>\n",
       "      <td>29.0</td>\n",
       "      <td>26212.0</td>\n",
       "      <td>['Space', 'Sandbox', 'Exploration', 'Building'...</td>\n",
       "    </tr>\n",
       "    <tr>\n",
       "      <th>1</th>\n",
       "      <td>Shadowverse: Worlds Beyond</td>\n",
       "      <td>01958f0e-3b2f-712f-9061-440be3587166</td>\n",
       "      <td>game</td>\n",
       "      <td>True</td>\n",
       "      <td>False</td>\n",
       "      <td>2025-06-15</td>\n",
       "      <td>27430.0</td>\n",
       "      <td>1216.0</td>\n",
       "      <td>29.0</td>\n",
       "      <td>12864.0</td>\n",
       "      <td>['Free to Play', 'Card Battler', 'Trading Card...</td>\n",
       "    </tr>\n",
       "    <tr>\n",
       "      <th>2</th>\n",
       "      <td>New York Bus Simulator</td>\n",
       "      <td>018d937f-1eeb-71f9-97c7-a28eadd520c8</td>\n",
       "      <td>game</td>\n",
       "      <td>False</td>\n",
       "      <td>False</td>\n",
       "      <td>2014-06-03</td>\n",
       "      <td>23682.0</td>\n",
       "      <td>1322.0</td>\n",
       "      <td>51.0</td>\n",
       "      <td>95.0</td>\n",
       "      <td>['Automobile Sim', 'Simulation', 'Driving', 'R...</td>\n",
       "    </tr>\n",
       "    <tr>\n",
       "      <th>3</th>\n",
       "      <td>SHOFER Race Driver</td>\n",
       "      <td>018d937f-0411-723e-9c22-89b8fc7a1504</td>\n",
       "      <td>game</td>\n",
       "      <td>False</td>\n",
       "      <td>False</td>\n",
       "      <td>2015-07-01</td>\n",
       "      <td>21825.0</td>\n",
       "      <td>1641.0</td>\n",
       "      <td>25.0</td>\n",
       "      <td>4.0</td>\n",
       "      <td>['Racing', 'Indie', 'Sports', 'Simulation']</td>\n",
       "    </tr>\n",
       "    <tr>\n",
       "      <th>4</th>\n",
       "      <td>Growtopia</td>\n",
       "      <td>018d937f-364f-7289-8036-daf6440c4411</td>\n",
       "      <td>game</td>\n",
       "      <td>True</td>\n",
       "      <td>False</td>\n",
       "      <td>2012-11-30</td>\n",
       "      <td>38847.0</td>\n",
       "      <td>948.0</td>\n",
       "      <td>26.0</td>\n",
       "      <td>1773.0</td>\n",
       "      <td>['Casual', 'Adventure', 'Simulation', 'MMORPG'...</td>\n",
       "    </tr>\n",
       "  </tbody>\n",
       "</table>\n",
       "</div>"
      ],
      "text/plain": [
       "                        title                             itad_uuid  type  \\\n",
       "0      Kerbal Space Program 2  018d937f-157f-71fc-bc96-6376789a09aa  game   \n",
       "1  Shadowverse: Worlds Beyond  01958f0e-3b2f-712f-9061-440be3587166  game   \n",
       "2      New York Bus Simulator  018d937f-1eeb-71f9-97c7-a28eadd520c8  game   \n",
       "3          SHOFER Race Driver  018d937f-0411-723e-9c22-89b8fc7a1504  game   \n",
       "4                   Growtopia  018d937f-364f-7289-8036-daf6440c4411  game   \n",
       "\n",
       "  achievements mature release_date     rank  collected  steam_score  \\\n",
       "0        False  False   2023-02-24   2511.0      907.0         29.0   \n",
       "1         True  False   2025-06-15  27430.0     1216.0         29.0   \n",
       "2        False  False   2014-06-03  23682.0     1322.0         51.0   \n",
       "3        False  False   2015-07-01  21825.0     1641.0         25.0   \n",
       "4         True  False   2012-11-30  38847.0      948.0         26.0   \n",
       "\n",
       "   steam_review_count                                               tags  \n",
       "0             26212.0  ['Space', 'Sandbox', 'Exploration', 'Building'...  \n",
       "1             12864.0  ['Free to Play', 'Card Battler', 'Trading Card...  \n",
       "2                95.0  ['Automobile Sim', 'Simulation', 'Driving', 'R...  \n",
       "3                 4.0        ['Racing', 'Indie', 'Sports', 'Simulation']  \n",
       "4              1773.0  ['Casual', 'Adventure', 'Simulation', 'MMORPG'...  "
      ]
     },
     "execution_count": 49,
     "metadata": {},
     "output_type": "execute_result"
    }
   ],
   "source": [
    "new_merged.head()"
   ]
  },
  {
   "cell_type": "code",
   "execution_count": 50,
   "id": "e4590ca6-fad9-4e82-890b-3b39f4905de7",
   "metadata": {},
   "outputs": [
    {
     "data": {
      "text/plain": [
       "array(['game', nan, 'dlc', 'package'], dtype=object)"
      ]
     },
     "execution_count": 50,
     "metadata": {},
     "output_type": "execute_result"
    }
   ],
   "source": [
    "new_merged[\"type\"].unique()"
   ]
  },
  {
   "cell_type": "code",
   "execution_count": 67,
   "id": "93a079ac-e368-454e-84cc-92848a946d04",
   "metadata": {},
   "outputs": [],
   "source": [
    "dropped_steam_review_nan = new_merged.loc[new_merged['steam_score'].notnull()]"
   ]
  },
  {
   "cell_type": "code",
   "execution_count": 68,
   "id": "6c75fe97-b9c2-43c2-a99b-2fb747f2f6a6",
   "metadata": {},
   "outputs": [
    {
     "name": "stdout",
     "output_type": "stream",
     "text": [
      "<class 'pandas.core.frame.DataFrame'>\n",
      "Index: 8357 entries, 0 to 8531\n",
      "Data columns (total 11 columns):\n",
      " #   Column              Non-Null Count  Dtype  \n",
      "---  ------              --------------  -----  \n",
      " 0   title               8357 non-null   object \n",
      " 1   itad_uuid           8357 non-null   object \n",
      " 2   type                8002 non-null   object \n",
      " 3   achievements        8357 non-null   object \n",
      " 4   mature              8357 non-null   object \n",
      " 5   release_date        8048 non-null   object \n",
      " 6   rank                8357 non-null   float64\n",
      " 7   collected           8357 non-null   float64\n",
      " 8   steam_score         8357 non-null   float64\n",
      " 9   steam_review_count  8357 non-null   float64\n",
      " 10  tags                8357 non-null   object \n",
      "dtypes: float64(4), object(7)\n",
      "memory usage: 783.5+ KB\n"
     ]
    }
   ],
   "source": [
    "dropped_steam_review_nan.info()"
   ]
  },
  {
   "cell_type": "code",
   "execution_count": 121,
   "id": "921990c6-2555-40df-9213-a6b6b31cf2b5",
   "metadata": {},
   "outputs": [],
   "source": [
    "converted_dtypes = dropped_steam_review_nan.astype({'type':'category', 'achievements':'bool', 'mature':'bool','rank':'int32', 'collected':'int32', 'steam_score':'int32', 'steam_review_count':'int32'})"
   ]
  },
  {
   "cell_type": "code",
   "execution_count": 122,
   "id": "61571f66-17fc-489f-b0ae-0f55f4b1a370",
   "metadata": {},
   "outputs": [
    {
     "name": "stdout",
     "output_type": "stream",
     "text": [
      "<class 'pandas.core.frame.DataFrame'>\n",
      "Index: 8357 entries, 0 to 8531\n",
      "Data columns (total 11 columns):\n",
      " #   Column              Non-Null Count  Dtype   \n",
      "---  ------              --------------  -----   \n",
      " 0   title               8357 non-null   object  \n",
      " 1   itad_uuid           8357 non-null   object  \n",
      " 2   type                8002 non-null   category\n",
      " 3   achievements        8357 non-null   bool    \n",
      " 4   mature              8357 non-null   bool    \n",
      " 5   release_date        8048 non-null   object  \n",
      " 6   rank                8357 non-null   int32   \n",
      " 7   collected           8357 non-null   int32   \n",
      " 8   steam_score         8357 non-null   int32   \n",
      " 9   steam_review_count  8357 non-null   int32   \n",
      " 10  tags                8357 non-null   object  \n",
      "dtypes: bool(2), category(1), int32(4), object(4)\n",
      "memory usage: 739.7+ KB\n"
     ]
    }
   ],
   "source": [
    "converted_dtypes.info()"
   ]
  },
  {
   "cell_type": "code",
   "execution_count": 123,
   "id": "24692652-67fb-4468-af60-44f37b430e90",
   "metadata": {},
   "outputs": [],
   "source": [
    "converted_dtypes['release_date'] = pd.to_datetime(converted_dtypes['release_date'], errors='coerce')"
   ]
  },
  {
   "cell_type": "code",
   "execution_count": 124,
   "id": "25d6a0ed-b10d-4735-80d1-ca53a9372550",
   "metadata": {},
   "outputs": [],
   "source": [
    "converted_dtypes = converted_dtypes.reset_index(drop=True)"
   ]
  },
  {
   "cell_type": "code",
   "execution_count": 125,
   "id": "bcb3d03b-b4bc-4dc6-a9e0-a8f85bf2b0e6",
   "metadata": {},
   "outputs": [
    {
     "name": "stdout",
     "output_type": "stream",
     "text": [
      "<class 'pandas.core.frame.DataFrame'>\n",
      "RangeIndex: 8357 entries, 0 to 8356\n",
      "Data columns (total 11 columns):\n",
      " #   Column              Non-Null Count  Dtype         \n",
      "---  ------              --------------  -----         \n",
      " 0   title               8357 non-null   object        \n",
      " 1   itad_uuid           8357 non-null   object        \n",
      " 2   type                8002 non-null   category      \n",
      " 3   achievements        8357 non-null   bool          \n",
      " 4   mature              8357 non-null   bool          \n",
      " 5   release_date        8048 non-null   datetime64[ns]\n",
      " 6   rank                8357 non-null   int32         \n",
      " 7   collected           8357 non-null   int32         \n",
      " 8   steam_score         8357 non-null   int32         \n",
      " 9   steam_review_count  8357 non-null   int32         \n",
      " 10  tags                8357 non-null   object        \n",
      "dtypes: bool(2), category(1), datetime64[ns](1), int32(4), object(3)\n",
      "memory usage: 416.5+ KB\n"
     ]
    }
   ],
   "source": [
    "converted_dtypes.info()"
   ]
  },
  {
   "cell_type": "code",
   "execution_count": 126,
   "id": "5d019f18-e349-49e4-85ac-3686945f2dba",
   "metadata": {},
   "outputs": [],
   "source": [
    "converted_dtypes['has_release_date'] = converted_dtypes['release_date'].notna()"
   ]
  },
  {
   "cell_type": "code",
   "execution_count": 127,
   "id": "377cac24-e366-4a0d-8f92-db624b0531da",
   "metadata": {},
   "outputs": [],
   "source": [
    "converted_dtypes['tags'] = converted_dtypes['tags'].apply(literal_eval)"
   ]
  },
  {
   "cell_type": "code",
   "execution_count": 133,
   "id": "50af1d6c-df27-431b-b6f8-9556ae867d4e",
   "metadata": {},
   "outputs": [],
   "source": [
    "game_tags = converted_dtypes[[\"itad_uuid\", \"title\", \"tags\"]].explode(\"tags\")\n",
    "game_tags = game_tags.rename(columns={\"tags\":\"tag\"})\n",
    "game_tags = game_tags.dropna(subset=[\"tag\"]).drop_duplicates()\n",
    "game_tags = game_tags.reset_index(drop=True)"
   ]
  },
  {
   "cell_type": "code",
   "execution_count": 134,
   "id": "5f974e6e-95b4-453b-a2f0-0367132ccb1a",
   "metadata": {},
   "outputs": [],
   "source": [
    "game_tags.to_parquet('../data/game_tags.parquet')"
   ]
  },
  {
   "cell_type": "code",
   "execution_count": 150,
   "id": "36dd0163-3437-458c-b209-91989c26a8f0",
   "metadata": {},
   "outputs": [],
   "source": [
    "drop_tags_col = converted_dtypes.drop('tags', axis=1)"
   ]
  },
  {
   "cell_type": "code",
   "execution_count": 151,
   "id": "a8212049-19b6-41ca-bd4e-081c91c02b53",
   "metadata": {},
   "outputs": [
    {
     "name": "stdout",
     "output_type": "stream",
     "text": [
      "<class 'pandas.core.frame.DataFrame'>\n",
      "RangeIndex: 8357 entries, 0 to 8356\n",
      "Data columns (total 11 columns):\n",
      " #   Column              Non-Null Count  Dtype         \n",
      "---  ------              --------------  -----         \n",
      " 0   title               8357 non-null   object        \n",
      " 1   itad_uuid           8357 non-null   object        \n",
      " 2   type                8002 non-null   category      \n",
      " 3   achievements        8357 non-null   bool          \n",
      " 4   mature              8357 non-null   bool          \n",
      " 5   release_date        8048 non-null   datetime64[ns]\n",
      " 6   rank                8357 non-null   int32         \n",
      " 7   collected           8357 non-null   int32         \n",
      " 8   steam_score         8357 non-null   int32         \n",
      " 9   steam_review_count  8357 non-null   int32         \n",
      " 10  has_release_date    8357 non-null   bool          \n",
      "dtypes: bool(3), category(1), datetime64[ns](1), int32(4), object(2)\n",
      "memory usage: 359.3+ KB\n"
     ]
    }
   ],
   "source": [
    "drop_tags_col.info()"
   ]
  },
  {
   "cell_type": "code",
   "execution_count": 152,
   "id": "ba2c6006-b8d1-424d-8d0a-43beaf681351",
   "metadata": {},
   "outputs": [],
   "source": [
    "def define_placement(number):\n",
    "    if pd.isna(number):\n",
    "        return \"Unknown\"\n",
    "    elif number <= 29:\n",
    "        return 'Terrible'\n",
    "    elif number <= 49:\n",
    "        return \"Poor\"\n",
    "    elif number <= 69:\n",
    "        return \"Mixed\"\n",
    "    elif number <= 84:\n",
    "        return \"Good\"\n",
    "    else:\n",
    "        return \"Excellent\""
   ]
  },
  {
   "cell_type": "code",
   "execution_count": 157,
   "id": "36d6d4df-cffe-4fc0-b3c2-f84dbc5104f3",
   "metadata": {},
   "outputs": [],
   "source": [
    "add_tier = drop_tags_col\n",
    "add_tier['review_tier'] = add_tier.apply(lambda row: define_placement(row.steam_score), axis=1)\n",
    "add_tier = add_tier.astype({'review_tier':'category'})"
   ]
  },
  {
   "cell_type": "code",
   "execution_count": 159,
   "id": "c7d2d168-696d-4a5d-a67a-79afb6fef1ba",
   "metadata": {},
   "outputs": [
    {
     "name": "stdout",
     "output_type": "stream",
     "text": [
      "<class 'pandas.core.frame.DataFrame'>\n",
      "RangeIndex: 8357 entries, 0 to 8356\n",
      "Data columns (total 12 columns):\n",
      " #   Column              Non-Null Count  Dtype         \n",
      "---  ------              --------------  -----         \n",
      " 0   title               8357 non-null   object        \n",
      " 1   itad_uuid           8357 non-null   object        \n",
      " 2   type                8002 non-null   category      \n",
      " 3   achievements        8357 non-null   bool          \n",
      " 4   mature              8357 non-null   bool          \n",
      " 5   release_date        8048 non-null   datetime64[ns]\n",
      " 6   rank                8357 non-null   int32         \n",
      " 7   collected           8357 non-null   int32         \n",
      " 8   steam_score         8357 non-null   int32         \n",
      " 9   steam_review_count  8357 non-null   int32         \n",
      " 10  has_release_date    8357 non-null   bool          \n",
      " 11  review_tier         8357 non-null   category      \n",
      "dtypes: bool(3), category(2), datetime64[ns](1), int32(4), object(2)\n",
      "memory usage: 367.7+ KB\n"
     ]
    }
   ],
   "source": [
    "add_tier.info()"
   ]
  },
  {
   "cell_type": "code",
   "execution_count": 163,
   "id": "95b52878-255c-4e52-b23e-9c1b6de3490f",
   "metadata": {},
   "outputs": [],
   "source": [
    "add_tier.to_parquet(\"../data/game_info.parquet\")"
   ]
  },
  {
   "cell_type": "code",
   "execution_count": 162,
   "id": "df9e4a50-07b2-467e-9961-0037b734a5ce",
   "metadata": {},
   "outputs": [
    {
     "data": {
      "text/plain": [
       "review_tier\n",
       "Excellent    2833\n",
       "Mixed        2118\n",
       "Poor         1558\n",
       "Good         1525\n",
       "Terrible      323\n",
       "Name: count, dtype: int64"
      ]
     },
     "execution_count": 162,
     "metadata": {},
     "output_type": "execute_result"
    }
   ],
   "source": [
    "add_tier.review_tier.value_counts()"
   ]
  },
  {
   "cell_type": "code",
   "execution_count": null,
   "id": "e7fd0e0d-5df3-48f5-b540-a355d503966f",
   "metadata": {},
   "outputs": [],
   "source": []
  }
 ],
 "metadata": {
  "kernelspec": {
   "display_name": "Python 3 (ipykernel)",
   "language": "python",
   "name": "python3"
  },
  "language_info": {
   "codemirror_mode": {
    "name": "ipython",
    "version": 3
   },
   "file_extension": ".py",
   "mimetype": "text/x-python",
   "name": "python",
   "nbconvert_exporter": "python",
   "pygments_lexer": "ipython3",
   "version": "3.10.18"
  }
 },
 "nbformat": 4,
 "nbformat_minor": 5
}
