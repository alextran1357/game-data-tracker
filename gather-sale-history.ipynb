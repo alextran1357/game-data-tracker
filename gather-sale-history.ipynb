{
 "cells": [
  {
   "cell_type": "code",
   "execution_count": 3,
   "id": "25bb117d-76d6-4868-90ef-494e9ac677a1",
   "metadata": {},
   "outputs": [],
   "source": [
    "import requests\n",
    "import constants"
   ]
  },
  {
   "cell_type": "code",
   "execution_count": 5,
   "id": "c8a76578-e45d-46c8-97df-fdb3b9f858ea",
   "metadata": {},
   "outputs": [
    {
     "name": "stdout",
     "output_type": "stream",
     "text": [
      "7c2c489adef04367b5dcd32f2cd9d81e332a601b\n"
     ]
    }
   ],
   "source": [
    "url = \"https://api.isthereanydeal.com/games/history/v2\"\n",
    "print(constants.API_KEY)\n",
    "# data = {\n",
    "#     key= constants.API_KEY\n",
    "#     id = \"018d937f-12e9-71ca-a5d5-f31985870694\",\n",
    "\n",
    "# }"
   ]
  },
  {
   "cell_type": "code",
   "execution_count": null,
   "id": "ee3ebd2e-e605-4455-9e21-9d19bb57e5ad",
   "metadata": {},
   "outputs": [],
   "source": []
  }
 ],
 "metadata": {
  "kernelspec": {
   "display_name": "Python 3 (ipykernel)",
   "language": "python",
   "name": "python3"
  },
  "language_info": {
   "codemirror_mode": {
    "name": "ipython",
    "version": 3
   },
   "file_extension": ".py",
   "mimetype": "text/x-python",
   "name": "python",
   "nbconvert_exporter": "python",
   "pygments_lexer": "ipython3",
   "version": "3.10.18"
  }
 },
 "nbformat": 4,
 "nbformat_minor": 5
}
